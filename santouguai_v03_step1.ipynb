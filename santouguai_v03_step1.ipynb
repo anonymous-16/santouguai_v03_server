{
 "cells": [
  {
   "cell_type": "markdown",
   "metadata": {
    "id": "LHt2xZUSqIzV"
   },
   "source": [
    "# Santouguai v0.3 step1"
   ]
  },
  {
   "cell_type": "markdown",
   "source": [
    "# 1. Enter the workspace\n",
    "# 2. Sep up environment\n",
    "# 3. Upload input data\n",
    "# 4. Enter the workspace'\n",
    "# 5. Run inference and download output data"
   ],
   "metadata": {
    "id": "qryyfDOHzYx9"
   }
  },
  {
   "cell_type": "code",
   "source": [
    "cd /content/"
   ],
   "metadata": {
    "id": "91JDjRCCQV_O"
   },
   "execution_count": null,
   "outputs": []
  },
  {
   "cell_type": "code",
   "source": [
    "!!if [ -d santouguai_v03_server/ ];then rm santouguai_v03_server/ -r;fi\n",
    "!git clone --branch=main https://github.com/anonymous-16/santouguai_v03_server.git\n",
    "!gdown \"https://drive.google.com/uc?id=1braaHjK8Icf9Ue3UzsC3jZioIMNCQQFy\" --output model_weights\n",
    "#!gdown \"https://drive.google.com/uc?id=1Uk4TYXrlpVSplO7hP5enLo5zBrVQUXJa\" --output input_data.json \n",
    "!mv model_weights santouguai_v03_server/model_weights\n",
    "!pip install torch torchvision torchaudio --extra-index-url https://download.pytorch.org/whl/cu113\n",
    "!pip install -r santouguai_v03_server/packages.txt\n"
   ],
   "metadata": {
    "id": "cuMx_DMcZJEU"
   },
   "execution_count": null,
   "outputs": []
  },
  {
   "cell_type": "code",
   "source": [
    "!if [ -d input_data/ ];then rm input_data/ -r;fi\n",
    "!if [ -f input_data.zip ];then rm input_data.zip;fi\n",
    "\n",
    "from google.colab import files\n",
    "uploaded = files.upload()\n",
    "filename = next(iter(uploaded))\n",
    "\n",
    "!unzip $filename -d input_data/\n",
    "!rm $filename\n",
    "!if [ -d santouguai_v03_server/input_data/ ];then rm santouguai_v03_server/input_data/ -r;fi\n",
    "!mkdir santouguai_v03_server/input_data/\n",
    "!mv input_data/*/* santouguai_v03_server/input_data/\n",
    "!rm input_data/ -r"
   ],
   "metadata": {
    "id": "7UnEzulNgjSu"
   },
   "execution_count": null,
   "outputs": []
  },
  {
   "cell_type": "code",
   "source": [
    "cd santouguai_v03_server/"
   ],
   "metadata": {
    "id": "wJNx6pPmOnp4"
   },
   "execution_count": null,
   "outputs": []
  },
  {
   "cell_type": "code",
   "source": [
    "!python inference_step1.py\n",
    "!zip -r output_step1.zip output_step1/\n",
    "from google.colab import files\n",
    "files.download(\"output_step1.zip\")"
   ],
   "metadata": {
    "id": "_UQvwQGhx7h4"
   },
   "execution_count": null,
   "outputs": []
  }
 ],
 "metadata": {
  "accelerator": "GPU",
  "colab": {
   "collapsed_sections": [],
   "name": "santouguai_v03 (1).ipynb",
   "private_outputs": true,
   "provenance": []
  },
  "kernelspec": {
   "display_name": "Python 3",
   "name": "python3"
  }
 },
 "nbformat": 4,
 "nbformat_minor": 0
}