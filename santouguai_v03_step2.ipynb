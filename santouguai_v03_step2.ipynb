{
 "cells": [
  {
   "cell_type": "markdown",
   "metadata": {
    "id": "LHt2xZUSqIzV"
   },
   "source": [
    "# Santouguai v0.3 step2"
   ]
  },
  {
   "cell_type": "markdown",
   "source": [
    "# 1. Enter the workspace\n",
    "# 2. Sep up environment\n",
    "# 3. Upload input data\n",
    "# 4. Enter the workspace'\n",
    "# 5. Run inference and download output data"
   ],
   "metadata": {
    "id": "qryyfDOHzYx9"
   }
  },
  {
   "cell_type": "code",
   "source": [
    "cd /content/"
   ],
   "metadata": {
    "id": "91JDjRCCQV_O"
   },
   "execution_count": null,
   "outputs": []
  },
  {
   "cell_type": "code",
   "source": [
    "!!if [ -d santouguai_v03_server/ ];then rm santouguai_v03_server/ -r;fi\n",
    "!git clone --branch=main https://github.com/anonymous-16/santouguai_v03_server.git\n",
    "!gdown \"https://drive.google.com/uc?id=1braaHjK8Icf9Ue3UzsC3jZioIMNCQQFy\" --output model_weights\n",
    "#!gdown \"https://drive.google.com/uc?id=1Uk4TYXrlpVSplO7hP5enLo5zBrVQUXJa\" --output input_data.json\n",
    "!mv model_weights santouguai_v03_server/model_weights\n",
    "!pip install torch torchvision torchaudio --extra-index-url https://download.pytorch.org/whl/cu113\n",
    "!pip install -r santouguai_v03_server/packages.txt"
   ],
   "metadata": {
    "id": "7UnEzulNgjSu"
   },
   "execution_count": null,
   "outputs": []
  },
  {
   "cell_type": "code",
   "execution_count": null,
   "outputs": [],
   "source": [
    "! if[-d output_step1 /];then rm output_step1 / -r;fi\n",
    "! if[-f output_step1.zip];then rm output_step1.zip;fi\n",
    "\n",
    "from google.colab import files\n",
    "\n",
    "uploaded = files.upload()\n",
    "filename = next(iter(uploaded))\n",
    "\n",
    "!unzip $filename -d input_data /\n",
    "!rm $filename\n",
    "! if[-d santouguai_v03_server / output_step1 /];then rm santouguai_v03_server / output_step1 / -r;fi\n",
    "!mkdir santouguai_v03_server / output_step1 /\n",
    "!mv output_step1 / * / * santouguai_v03_server / output_step1 /\n",
    "!rm output_step1 / -r\n"
   ],
   "metadata": {
    "collapsed": false,
    "pycharm": {
     "name": "#%%\n"
    }
   }
  },
  {
   "cell_type": "code",
   "execution_count": null,
   "outputs": [],
   "source": [
    "cd santouguai_v03_server /"
   ],
   "metadata": {
    "collapsed": false,
    "pycharm": {
     "name": "#%%\n"
    }
   }
  },
  {
   "cell_type": "code",
   "source": [
    "!python inference_step2.py\n",
    "!zip -r output_step2.zip output_step2/\n",
    "from google.colab import files\n",
    "files.download(\"output_step2.zip\")"
   ],
   "metadata": {
    "id": "_UQvwQGhx7h4"
   },
   "execution_count": null,
   "outputs": []
  }
 ],
 "metadata": {
  "accelerator": "GPU",
  "colab": {
   "collapsed_sections": [],
   "name": "santouguai_v03 (1).ipynb",
   "private_outputs": true,
   "provenance": []
  },
  "kernelspec": {
   "display_name": "Python 3",
   "name": "python3"
  }
 },
 "nbformat": 4,
 "nbformat_minor": 0
}