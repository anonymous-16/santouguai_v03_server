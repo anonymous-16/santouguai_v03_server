{
 "cells": [
  {
   "cell_type": "markdown",
   "metadata": {
    "id": "LHt2xZUSqIzV"
   },
   "source": [
    "# Santouguai v0.3 step2"
   ]
  },
  {
   "cell_type": "markdown",
   "source": [
    "# 1. Enter the workspace\n",
    "# 2. Upload revised data\n",
    "# 3. Run inference and download output data"
   ],
   "metadata": {
    "id": "qryyfDOHzYx9"
   }
  },
  {
   "cell_type": "code",
   "source": [
    "cd /content/test_server/"
   ],
   "metadata": {
    "id": "91JDjRCCQV_O"
   },
   "execution_count": null,
   "outputs": []
  },
  {
   "cell_type": "code",
   "source": [
    "!if [ -d output_step1/ ];then rm output_step1/ -r;fi\n",
    "!if [ -f output_step1.zip ];then rm output_step1.zip;fi\n",
    "\n",
    "from google.colab import files\n",
    "uploaded = files.upload()\n",
    "filename = next(iter(uploaded))\n",
    "\n",
    "!unzip $filename -d output_step1/\n",
    "!rm $filename"
   ],
   "metadata": {
    "id": "7UnEzulNgjSu"
   },
   "execution_count": null,
   "outputs": []
  },
  {
   "cell_type": "code",
   "source": [
    "!python inference_step2.py\n",
    "!zip -r output_step2.zip output_step2/\n",
    "from google.colab import files\n",
    "files.download(\"output_step2.zip\")"
   ],
   "metadata": {
    "id": "_UQvwQGhx7h4"
   },
   "execution_count": null,
   "outputs": []
  }
 ],
 "metadata": {
  "accelerator": "GPU",
  "colab": {
   "collapsed_sections": [],
   "name": "santouguai_v03 (1).ipynb",
   "private_outputs": true,
   "provenance": []
  },
  "kernelspec": {
   "display_name": "Python 3",
   "name": "python3"
  }
 },
 "nbformat": 4,
 "nbformat_minor": 0
}